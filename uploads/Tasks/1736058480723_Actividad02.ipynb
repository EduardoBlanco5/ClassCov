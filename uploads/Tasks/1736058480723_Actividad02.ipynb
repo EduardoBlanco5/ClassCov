{
  "nbformat": 4,
  "nbformat_minor": 0,
  "metadata": {
    "colab": {
      "provenance": []
    },
    "kernelspec": {
      "name": "python3",
      "display_name": "Python 3"
    },
    "language_info": {
      "name": "python"
    }
  },
  "cells": [
    {
      "cell_type": "markdown",
      "source": [
        "\n",
        "\n",
        "> Bloque con sangría\n",
        "\n",
        "\n",
        "##𝕪ᶥ = ℓ(𝓌ᵀx + 𝒃)   \n",
        "##𝓌 < ---- 𝓌 + η(yᴵ - 𝕪) xᴵ   \n",
        "##𝒃 < ---- 𝒃 + η(yᴵ - 𝕪)"
      ],
      "metadata": {
        "id": "sSbefV0fgwwJ"
      }
    },
    {
      "cell_type": "code",
      "source": [
        "import numpy as np\n",
        "import matplotlib.pyplot as mp"
      ],
      "metadata": {
        "id": "kICDMNYaaFrn"
      },
      "execution_count": null,
      "outputs": []
    },
    {
      "cell_type": "markdown",
      "source": [
        "###*perceptron class*  \n",
        "constructor -> n_inputs, learinig_rate -> int, double"
      ],
      "metadata": {
        "id": "1ZFNwiF0dPPS"
      }
    },
    {
      "cell_type": "code",
      "execution_count": null,
      "metadata": {
        "id": "JxxDF4JIZ2fM"
      },
      "outputs": [],
      "source": [
        "class perceptron:\n",
        "\n",
        "  def __init__(self,n_inputs,learning_rate):\n",
        "    self.logical = {'xor':np.array([0,1,1,0]),\n",
        "                    'and':np.array([1,1,1,1]),\n",
        "                    'nand':np.array([0,1,1,1])}\n",
        "    self.w = -1 + 2 * np.random.rand(n_inputs)\n",
        "    self.b = -1 + 2 * np.random.rand()\n",
        "    self.eta = learning_rate\n",
        "\n",
        "  def predict(self, X):\n",
        "    p = X.shape[1]\n",
        "\n",
        "    y_est = np.zeros(p)\n",
        "    for i in range(p):\n",
        "      y_est[i] = np.dot(self.w,X[:,i]+ self.b)\n",
        "      if(y_est[i] >= 0):\n",
        "        y_est[i] = 1\n",
        "      else:\n",
        "        y_est[i] = 0\n",
        "    return y_est\n",
        "\n",
        "  def fit(self,X,Y,epochs = 20):\n",
        "    # print(X.shape[1])\n",
        "    p = X.shape[1]\n",
        "    for _ in range(epochs):\n",
        "      for i in range(p):\n",
        "        y_est = self.predict(X[:,i].reshape(-1,1))\n",
        "        self.w += self.eta * (Y[:,i] - y_est)*X[:,i]\n",
        "        self.b += self.eta * (Y[:,i] - y_est)\n",
        "\n",
        "  def logical_fit(self,X,Y,epochs = 20):\n",
        "    # print(X.shape[1])\n",
        "    p = X.shape[1]\n",
        "    for _ in range(epochs):\n",
        "      for i in range(p):\n",
        "        y_est = self.predict(X[i].reshape(-1,1))\n",
        "        self.w += self.eta * (Y[i] - y_est)*X[:,i]\n",
        "        self.b += self.eta * (Y[i] - y_est)\n",
        "\n",
        "  def minMax(self,vector,min,max):\n",
        "    vector = vector.tolist()\n",
        "    for i in range(len(vector)):\n",
        "      vector[i] = [(vector[i]-min)/(max-min)]\n",
        "    return vector\n",
        "\n"
      ]
    },
    {
      "cell_type": "code",
      "source": [
        "def draw_perceptron2d(model):\n",
        "    w1,w2,b = model.w[0], model.w[1],model.b\n",
        "    mp.plot([-2,2], [(1/w2)*(-w1*(-2)-b), (1/w2)*(-w1*(2)-b)])"
      ],
      "metadata": {
        "id": "jI1iFOTXlYUw"
      },
      "execution_count": null,
      "outputs": []
    },
    {
      "cell_type": "code",
      "source": [
        "X = np.array([[0,0,1,1],\n",
        "              [0,1,0,1]])\n",
        "# Y = np.array([1,1,0,1])\n",
        "\n",
        "model = perceptron(2,0.5)\n",
        "Y = model.logical.get('nand')\n",
        "model.fit(X,Y)\n",
        "print(model.predict(X))\n",
        "# print(model.logical.get('xor'))\n",
        "\n",
        "#dibujo\n",
        "p = X.shape[1]\n",
        "# print(X.shape[1])\n",
        "for i in range(p):\n",
        "  if( Y[i] == 0):\n",
        "    mp.plot(X[0,i],X[1,i], 'or')\n",
        "  else:\n",
        "    mp.plot(X[0,i],X[1,i], 'og')\n",
        "\n",
        "mp.title('Perceptron')\n",
        "mp.grid('on')\n",
        "mp.xlim([-2,2])\n",
        "mp.ylim([-2,2])\n",
        "mp.xlabel(r'$x_1$')\n",
        "mp.ylabel(r'$x_2$')\n",
        "draw_perceptron2d(model)\n",
        "mp.show()"
      ],
      "metadata": {
        "colab": {
          "base_uri": "https://localhost:8080/",
          "height": 368
        },
        "id": "j7JeODN5cznM",
        "outputId": "6b6dff3b-8a1e-4275-bfeb-8ecb350e43d8"
      },
      "execution_count": null,
      "outputs": [
        {
          "output_type": "error",
          "ename": "IndexError",
          "evalue": "ignored",
          "traceback": [
            "\u001b[0;31m---------------------------------------------------------------------------\u001b[0m",
            "\u001b[0;31mIndexError\u001b[0m                                Traceback (most recent call last)",
            "\u001b[0;32m<ipython-input-6-cf35da8c13da>\u001b[0m in \u001b[0;36m<cell line: 7>\u001b[0;34m()\u001b[0m\n\u001b[1;32m      5\u001b[0m \u001b[0mmodel\u001b[0m \u001b[0;34m=\u001b[0m \u001b[0mperceptron\u001b[0m\u001b[0;34m(\u001b[0m\u001b[0;36m2\u001b[0m\u001b[0;34m,\u001b[0m\u001b[0;36m0.5\u001b[0m\u001b[0;34m)\u001b[0m\u001b[0;34m\u001b[0m\u001b[0;34m\u001b[0m\u001b[0m\n\u001b[1;32m      6\u001b[0m \u001b[0mY\u001b[0m \u001b[0;34m=\u001b[0m \u001b[0mmodel\u001b[0m\u001b[0;34m.\u001b[0m\u001b[0mlogical\u001b[0m\u001b[0;34m.\u001b[0m\u001b[0mget\u001b[0m\u001b[0;34m(\u001b[0m\u001b[0;34m'nand'\u001b[0m\u001b[0;34m)\u001b[0m\u001b[0;34m\u001b[0m\u001b[0;34m\u001b[0m\u001b[0m\n\u001b[0;32m----> 7\u001b[0;31m \u001b[0mmodel\u001b[0m\u001b[0;34m.\u001b[0m\u001b[0mfit\u001b[0m\u001b[0;34m(\u001b[0m\u001b[0mX\u001b[0m\u001b[0;34m,\u001b[0m\u001b[0mY\u001b[0m\u001b[0;34m)\u001b[0m\u001b[0;34m\u001b[0m\u001b[0;34m\u001b[0m\u001b[0m\n\u001b[0m\u001b[1;32m      8\u001b[0m \u001b[0mprint\u001b[0m\u001b[0;34m(\u001b[0m\u001b[0mmodel\u001b[0m\u001b[0;34m.\u001b[0m\u001b[0mpredict\u001b[0m\u001b[0;34m(\u001b[0m\u001b[0mX\u001b[0m\u001b[0;34m)\u001b[0m\u001b[0;34m)\u001b[0m\u001b[0;34m\u001b[0m\u001b[0;34m\u001b[0m\u001b[0m\n\u001b[1;32m      9\u001b[0m \u001b[0;31m# print(model.logical.get('xor'))\u001b[0m\u001b[0;34m\u001b[0m\u001b[0;34m\u001b[0m\u001b[0m\n",
            "\u001b[0;32m<ipython-input-4-f4dff50a99e8>\u001b[0m in \u001b[0;36mfit\u001b[0;34m(self, X, Y, epochs)\u001b[0m\n\u001b[1;32m     27\u001b[0m       \u001b[0;32mfor\u001b[0m \u001b[0mi\u001b[0m \u001b[0;32min\u001b[0m \u001b[0mrange\u001b[0m\u001b[0;34m(\u001b[0m\u001b[0mp\u001b[0m\u001b[0;34m)\u001b[0m\u001b[0;34m:\u001b[0m\u001b[0;34m\u001b[0m\u001b[0;34m\u001b[0m\u001b[0m\n\u001b[1;32m     28\u001b[0m         \u001b[0my_est\u001b[0m \u001b[0;34m=\u001b[0m \u001b[0mself\u001b[0m\u001b[0;34m.\u001b[0m\u001b[0mpredict\u001b[0m\u001b[0;34m(\u001b[0m\u001b[0mX\u001b[0m\u001b[0;34m[\u001b[0m\u001b[0;34m:\u001b[0m\u001b[0;34m,\u001b[0m\u001b[0mi\u001b[0m\u001b[0;34m]\u001b[0m\u001b[0;34m.\u001b[0m\u001b[0mreshape\u001b[0m\u001b[0;34m(\u001b[0m\u001b[0;34m-\u001b[0m\u001b[0;36m1\u001b[0m\u001b[0;34m,\u001b[0m\u001b[0;36m1\u001b[0m\u001b[0;34m)\u001b[0m\u001b[0;34m)\u001b[0m\u001b[0;34m\u001b[0m\u001b[0;34m\u001b[0m\u001b[0m\n\u001b[0;32m---> 29\u001b[0;31m         \u001b[0mself\u001b[0m\u001b[0;34m.\u001b[0m\u001b[0mw\u001b[0m \u001b[0;34m+=\u001b[0m \u001b[0mself\u001b[0m\u001b[0;34m.\u001b[0m\u001b[0meta\u001b[0m \u001b[0;34m*\u001b[0m \u001b[0;34m(\u001b[0m\u001b[0mY\u001b[0m\u001b[0;34m[\u001b[0m\u001b[0;34m:\u001b[0m\u001b[0;34m,\u001b[0m\u001b[0mi\u001b[0m\u001b[0;34m]\u001b[0m \u001b[0;34m-\u001b[0m \u001b[0my_est\u001b[0m\u001b[0;34m)\u001b[0m\u001b[0;34m*\u001b[0m\u001b[0mX\u001b[0m\u001b[0;34m[\u001b[0m\u001b[0;34m:\u001b[0m\u001b[0;34m,\u001b[0m\u001b[0mi\u001b[0m\u001b[0;34m]\u001b[0m\u001b[0;34m\u001b[0m\u001b[0;34m\u001b[0m\u001b[0m\n\u001b[0m\u001b[1;32m     30\u001b[0m         \u001b[0mself\u001b[0m\u001b[0;34m.\u001b[0m\u001b[0mb\u001b[0m \u001b[0;34m+=\u001b[0m \u001b[0mself\u001b[0m\u001b[0;34m.\u001b[0m\u001b[0meta\u001b[0m \u001b[0;34m*\u001b[0m \u001b[0;34m(\u001b[0m\u001b[0mY\u001b[0m\u001b[0;34m[\u001b[0m\u001b[0;34m:\u001b[0m\u001b[0;34m,\u001b[0m\u001b[0mi\u001b[0m\u001b[0;34m]\u001b[0m \u001b[0;34m-\u001b[0m \u001b[0my_est\u001b[0m\u001b[0;34m)\u001b[0m\u001b[0;34m\u001b[0m\u001b[0;34m\u001b[0m\u001b[0m\n\u001b[1;32m     31\u001b[0m \u001b[0;34m\u001b[0m\u001b[0m\n",
            "\u001b[0;31mIndexError\u001b[0m: too many indices for array: array is 1-dimensional, but 2 were indexed"
          ]
        }
      ]
    },
    {
      "cell_type": "markdown",
      "source": [
        "###Declaraciones de los pesos y alturas para IMC"
      ],
      "metadata": {
        "id": "pfIdom7kjXOJ"
      }
    },
    {
      "cell_type": "code",
      "source": [
        "\n",
        "# declaracion de los pesos minimos\n",
        "minW = 40\n",
        "maxW = 180\n",
        "minH = 1.2\n",
        "maxH = 2.2\n",
        "# np.random.seed(minW)\n",
        "peso = -minW + (maxW-minW)* np.random.rand(5)\n",
        "# altura =  (maxH-minH) * np.random.rand(5)\n",
        "altura =  np.random.uniform(minH,maxH,5)\n",
        "\n",
        "print('vector sin normalizar: ', peso)\n",
        "print('vector sin normalizar: ', altura)\n",
        "\n",
        "# print(model.minMax(peso,minW,maxW))\n",
        "\n",
        "# print(40 + 180 * np.random.rand(5))"
      ],
      "metadata": {
        "colab": {
          "base_uri": "https://localhost:8080/"
        },
        "id": "ogJfteE2qgGS",
        "outputId": "2a5aa61f-4d66-4570-9bc9-f5a59f969907"
      },
      "execution_count": null,
      "outputs": [
        {
          "output_type": "stream",
          "name": "stdout",
          "text": [
            "vector sin normalizar:  [34.48738836 75.46109046 55.6378564   5.08748091 30.10407347]\n",
            "vector sin normalizar:  [1.55218319 2.03034995 2.07893339 1.56367228 2.1483677 ]\n"
          ]
        }
      ]
    },
    {
      "cell_type": "markdown",
      "source": [
        "###generando los pesos y alturas de manera aleatoria para despues normalizar"
      ],
      "metadata": {
        "id": "aiWut_FgjuKX"
      }
    },
    {
      "cell_type": "code",
      "source": [
        "def randWeightHeight(min_W,max_W,min_H,max_H,n_inputs,model):\n",
        "  # weig = -min_W + (max_W-min_W)* np.random.rand(n_inputs)\n",
        "  weig = np.random.randint(min_W,max_W,n_inputs)\n",
        "  heig = np.random.uniform(min_H,max_H,n_inputs)\n",
        "  imc = weig/ (heig**2)\n",
        "  Y = (imc > 25) * 1\n",
        "  # print(Y,imc)\n",
        "  Y = Y.reshape(1,-1)\n",
        "  weig = np.array(model.minMax(weig,min_W,max_W))\n",
        "  heig = np.array(model.minMax(heig,min_H,max_H))\n",
        "  X = np.concatenate((weig.T, heig.T),axis=0)\n",
        "  return X, Y"
      ],
      "metadata": {
        "id": "f9iH7oqdj3j5"
      },
      "execution_count": null,
      "outputs": []
    },
    {
      "cell_type": "code",
      "source": [
        "neuronalIMC = perceptron(2,0.2)\n",
        "X, Y = randWeightHeight(minW,maxW,minH,maxH,30,neuronalIMC)\n",
        "# print(type(X))\n",
        "print(Y)\n",
        "print(X.shape)\n",
        "print(Y.shape)"
      ],
      "metadata": {
        "id": "6xg3TFJY_F8b",
        "colab": {
          "base_uri": "https://localhost:8080/"
        },
        "outputId": "49788908-f85a-4c48-8760-026cfea6a673"
      },
      "execution_count": null,
      "outputs": [
        {
          "output_type": "stream",
          "name": "stdout",
          "text": [
            "[[1 0 0 0 1 1 0 0 1 1 0 1 1 0 0 1 1 1 1 1 1 0 0 1 1 1 1 0 1 0]]\n",
            "(2, 30)\n",
            "(1, 30)\n"
          ]
        }
      ]
    },
    {
      "cell_type": "code",
      "source": [
        "\n",
        "\n",
        "# heigth = np.array([np.array(x) for x in heigth])\n",
        "\n",
        "# print('pesos: ',weigth )\n",
        "# print('alturas: ',heigth)\n",
        "neuronalIMC = perceptron(2,0.5)\n",
        "X, Y = randWeightHeight(minW,maxW,minH,maxH,30,neuronalIMC)\n",
        "#weigth = np.array([np.array(x) for x in weigth])\n",
        "neuronalIMC.fit(X,Y,100)\n",
        "print(neuronalIMC.predict(X))\n",
        "\n",
        "\n",
        "#dibujo\n",
        "p = X.shape[1]\n",
        "# print(X.shape[1])\n",
        "for i in range(p):\n",
        "  if( Y[:,i] == 0):\n",
        "    mp.plot(X[0,i],X[1,i], 'or')\n",
        "  else:\n",
        "    mp.plot(X[0,i],X[1,i], 'og')\n",
        "\n",
        "mp.title('Perceptron IMC')\n",
        "mp.grid('on')\n",
        "mp.xlim([-0.5,1.5])\n",
        "mp.ylim([-2,2])\n",
        "mp.xlabel(r'$x_1$')\n",
        "mp.ylabel(r'$x_2$')\n",
        "draw_perceptron2d(neuronalIMC)\n",
        "mp.show()\n"
      ],
      "metadata": {
        "colab": {
          "base_uri": "https://localhost:8080/",
          "height": 507
        },
        "id": "3NkzggQSlW5D",
        "outputId": "6f90a1e7-b5fb-42f1-b68e-55c1644022fe"
      },
      "execution_count": null,
      "outputs": [
        {
          "output_type": "stream",
          "name": "stdout",
          "text": [
            "[1. 1. 1. 1. 1. 0. 1. 1. 0. 0. 1. 1. 1. 0. 1. 1. 1. 1. 0. 0. 0. 1. 1. 1.\n",
            " 1. 1. 1. 1. 0. 0.]\n"
          ]
        },
        {
          "output_type": "display_data",
          "data": {
            "text/plain": [
              "<Figure size 640x480 with 1 Axes>"
            ],
            "image/png": "[encoded data removed]"
          },
          "metadata": {}
        }
      ]
    }
  ]
}